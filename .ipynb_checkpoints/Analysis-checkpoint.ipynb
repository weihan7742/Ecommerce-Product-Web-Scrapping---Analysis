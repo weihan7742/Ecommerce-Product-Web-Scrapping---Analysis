{
 "cells": [
  {
   "cell_type": "markdown",
   "metadata": {},
   "source": [
    "# ECommerce Product Price Analysis\n",
    "\n",
    "Objective: To predict the sales price of a product based on various features\n",
    "Dataset: Scraped from Shopee\n",
    "Product: Shin Ramen"
   ]
  },
  {
   "cell_type": "markdown",
   "metadata": {},
   "source": [
    "## Import Libraries & Dataset"
   ]
  },
  {
   "cell_type": "code",
   "execution_count": 1,
   "metadata": {},
   "outputs": [],
   "source": [
    "# Import libraries\n",
    "\n",
    "import pandas as pd\n",
    "import numpy as np\n",
    "import matplotlib.pyplot as plt\n",
    "%matplotlib inline\n",
    "import seaborn as sns\n",
    "\n",
    "## Display all columns of the dataframe\n",
    "pd.pandas.set_option('display.max_columns',None)"
   ]
  },
  {
   "cell_type": "code",
   "execution_count": 2,
   "metadata": {},
   "outputs": [
    {
     "name": "stdout",
     "output_type": "stream",
     "text": [
      "(500, 13)\n"
     ]
    }
   ],
   "source": [
    "df = pd.read_csv('raw_shin ramen_shopee.csv')\n",
    "\n",
    "# Show rows and columns\n",
    "print(df.shape)"
   ]
  },
  {
   "cell_type": "code",
   "execution_count": 3,
   "metadata": {},
   "outputs": [
    {
     "data": {
      "text/html": [
       "<div>\n",
       "<style scoped>\n",
       "    .dataframe tbody tr th:only-of-type {\n",
       "        vertical-align: middle;\n",
       "    }\n",
       "\n",
       "    .dataframe tbody tr th {\n",
       "        vertical-align: top;\n",
       "    }\n",
       "\n",
       "    .dataframe thead th {\n",
       "        text-align: right;\n",
       "    }\n",
       "</style>\n",
       "<table border=\"1\" class=\"dataframe\">\n",
       "  <thead>\n",
       "    <tr style=\"text-align: right;\">\n",
       "      <th></th>\n",
       "      <th>prod_name</th>\n",
       "      <th>prod_desc</th>\n",
       "      <th>prod_price</th>\n",
       "      <th>prod_rating</th>\n",
       "      <th>prod_no_rating</th>\n",
       "      <th>prod_no_sold</th>\n",
       "      <th>sell_name</th>\n",
       "      <th>sell_rating</th>\n",
       "      <th>sell_no_products</th>\n",
       "      <th>sell_resprate</th>\n",
       "      <th>sell_resptime</th>\n",
       "      <th>sell_follower</th>\n",
       "      <th>sell_joined</th>\n",
       "    </tr>\n",
       "  </thead>\n",
       "  <tbody>\n",
       "    <tr>\n",
       "      <th>0</th>\n",
       "      <td>Preferred+\\n【Ready Stock 】 [Halal] NongShim Sh...</td>\n",
       "      <td>NaN</td>\n",
       "      <td>RM12.50</td>\n",
       "      <td>5.0</td>\n",
       "      <td>5.0</td>\n",
       "      <td>421</td>\n",
       "      <td>49shopp</td>\n",
       "      <td>23.5k</td>\n",
       "      <td>411</td>\n",
       "      <td>98%</td>\n",
       "      <td>within hours</td>\n",
       "      <td>3 years ago</td>\n",
       "      <td>9.8k</td>\n",
       "    </tr>\n",
       "    <tr>\n",
       "      <th>1</th>\n",
       "      <td>Halal Nongshim Ramen (Shin Ramyun / Kimchi Ram...</td>\n",
       "      <td>Expiry date :\\nShin ramyun - December 2021\\nKi...</td>\n",
       "      <td>RM15.90 - RM48.00</td>\n",
       "      <td>4.9</td>\n",
       "      <td>4.9</td>\n",
       "      <td>68</td>\n",
       "      <td>newlineresources.online</td>\n",
       "      <td>2.1k</td>\n",
       "      <td>57</td>\n",
       "      <td>81%</td>\n",
       "      <td>within hours</td>\n",
       "      <td>12 months ago</td>\n",
       "      <td>1.2k</td>\n",
       "    </tr>\n",
       "    <tr>\n",
       "      <th>2</th>\n",
       "      <td>Halal Nongshim Shin Ramyun/Kimchi Ramen/ neogu...</td>\n",
       "      <td>As part of the marketing strategies, Nongshim ...</td>\n",
       "      <td>RM63.50</td>\n",
       "      <td>NaN</td>\n",
       "      <td>0.0</td>\n",
       "      <td>0</td>\n",
       "      <td>newlineresources.online</td>\n",
       "      <td>2.1k</td>\n",
       "      <td>57</td>\n",
       "      <td>81%</td>\n",
       "      <td>within hours</td>\n",
       "      <td>12 months ago</td>\n",
       "      <td>1.2k</td>\n",
       "    </tr>\n",
       "    <tr>\n",
       "      <th>3</th>\n",
       "      <td>Preferred+\\nSHIN • KOREA KOREAN RAMEN POT ○ YE...</td>\n",
       "      <td>**Get Korean Spoon &amp; Chopsticks at Only RM10 w...</td>\n",
       "      <td>RM13.80 - RM69.80</td>\n",
       "      <td>4.9</td>\n",
       "      <td>4.9</td>\n",
       "      <td>788</td>\n",
       "      <td>imshin.</td>\n",
       "      <td>25.2k</td>\n",
       "      <td>421</td>\n",
       "      <td>99%</td>\n",
       "      <td>within hours</td>\n",
       "      <td>5 years ago</td>\n",
       "      <td>25.4k</td>\n",
       "    </tr>\n",
       "    <tr>\n",
       "      <th>4</th>\n",
       "      <td>Preferred+\\n【Ready Stock】 (HALAL) Korea Nongsh...</td>\n",
       "      <td>1. Nongshim Shin Ramyun Bowl  (117g)\\n- Octobe...</td>\n",
       "      <td>RM4.50</td>\n",
       "      <td>5.0</td>\n",
       "      <td>5.0</td>\n",
       "      <td>967</td>\n",
       "      <td>49shopp</td>\n",
       "      <td>23.5k</td>\n",
       "      <td>411</td>\n",
       "      <td>98%</td>\n",
       "      <td>within hours</td>\n",
       "      <td>3 years ago</td>\n",
       "      <td>9.8k</td>\n",
       "    </tr>\n",
       "  </tbody>\n",
       "</table>\n",
       "</div>"
      ],
      "text/plain": [
       "                                           prod_name  \\\n",
       "0  Preferred+\\n【Ready Stock 】 [Halal] NongShim Sh...   \n",
       "1  Halal Nongshim Ramen (Shin Ramyun / Kimchi Ram...   \n",
       "2  Halal Nongshim Shin Ramyun/Kimchi Ramen/ neogu...   \n",
       "3  Preferred+\\nSHIN • KOREA KOREAN RAMEN POT ○ YE...   \n",
       "4  Preferred+\\n【Ready Stock】 (HALAL) Korea Nongsh...   \n",
       "\n",
       "                                           prod_desc         prod_price  \\\n",
       "0                                                NaN            RM12.50   \n",
       "1  Expiry date :\\nShin ramyun - December 2021\\nKi...  RM15.90 - RM48.00   \n",
       "2  As part of the marketing strategies, Nongshim ...            RM63.50   \n",
       "3  **Get Korean Spoon & Chopsticks at Only RM10 w...  RM13.80 - RM69.80   \n",
       "4  1. Nongshim Shin Ramyun Bowl  (117g)\\n- Octobe...             RM4.50   \n",
       "\n",
       "   prod_rating  prod_no_rating prod_no_sold                sell_name  \\\n",
       "0          5.0             5.0          421                  49shopp   \n",
       "1          4.9             4.9           68  newlineresources.online   \n",
       "2          NaN             0.0            0  newlineresources.online   \n",
       "3          4.9             4.9          788                  imshin.   \n",
       "4          5.0             5.0          967                  49shopp   \n",
       "\n",
       "  sell_rating sell_no_products sell_resprate sell_resptime  sell_follower  \\\n",
       "0       23.5k              411           98%  within hours    3 years ago   \n",
       "1        2.1k               57           81%  within hours  12 months ago   \n",
       "2        2.1k               57           81%  within hours  12 months ago   \n",
       "3       25.2k              421           99%  within hours    5 years ago   \n",
       "4       23.5k              411           98%  within hours    3 years ago   \n",
       "\n",
       "  sell_joined  \n",
       "0        9.8k  \n",
       "1        1.2k  \n",
       "2        1.2k  \n",
       "3       25.4k  \n",
       "4        9.8k  "
      ]
     },
     "execution_count": 3,
     "metadata": {},
     "output_type": "execute_result"
    }
   ],
   "source": [
    "df.head()"
   ]
  },
  {
   "cell_type": "markdown",
   "metadata": {},
   "source": [
    "## Data Cleaning"
   ]
  },
  {
   "cell_type": "code",
   "execution_count": 4,
   "metadata": {},
   "outputs": [
    {
     "name": "stdout",
     "output_type": "stream",
     "text": [
      "prod_desc 0.004 % missing values\n",
      "prod_rating 0.71 % missing values\n"
     ]
    }
   ],
   "source": [
    "# Make a list of features which has missing values\n",
    "features_with_na = [features for features in df.columns if df[features].isnull().sum()>1]\n",
    "\n",
    "# Print the feature name and percentage of missing values\n",
    "for feature in features_with_na: \n",
    "    print(feature,np.round(df[feature].isnull().mean(),4), '% missing values')"
   ]
  },
  {
   "cell_type": "code",
   "execution_count": 5,
   "metadata": {},
   "outputs": [
    {
     "data": {
      "text/plain": [
       "prod_name            object\n",
       "prod_desc            object\n",
       "prod_price           object\n",
       "prod_rating         float64\n",
       "prod_no_rating      float64\n",
       "prod_no_sold         object\n",
       "sell_name            object\n",
       "sell_rating          object\n",
       "sell_no_products     object\n",
       "sell_resprate        object\n",
       "sell_resptime        object\n",
       "sell_follower        object\n",
       "sell_joined          object\n",
       "dtype: object"
      ]
     },
     "execution_count": 5,
     "metadata": {},
     "output_type": "execute_result"
    }
   ],
   "source": [
    "# Find out the data types of each columns\n",
    "df.dtypes"
   ]
  },
  {
   "cell_type": "code",
   "execution_count": 6,
   "metadata": {},
   "outputs": [],
   "source": [
    "# Swap names for sell_follower with sell_joined\n",
    "df[['sell_follower','sell_joined']] = df[['sell_joined','sell_follower']]"
   ]
  },
  {
   "cell_type": "code",
   "execution_count": 7,
   "metadata": {},
   "outputs": [],
   "source": [
    "def value_to_int(x):\n",
    "    if 'k' in x:\n",
    "        return int(float(x.replace('k','')))*1000\n",
    "    return int(x)"
   ]
  },
  {
   "cell_type": "code",
   "execution_count": 8,
   "metadata": {},
   "outputs": [],
   "source": [
    "def col_value_to_int(df,col_lst):\n",
    "    for col in col_lst:\n",
    "        df[col] = df[col].apply(value_to_int)"
   ]
  },
  {
   "cell_type": "code",
   "execution_count": 9,
   "metadata": {},
   "outputs": [],
   "source": [
    "col_list = ['sell_rating','sell_no_products','sell_follower','prod_no_sold']\n",
    "col_value_to_int(df,col_list)"
   ]
  },
  {
   "cell_type": "code",
   "execution_count": 10,
   "metadata": {},
   "outputs": [
    {
     "data": {
      "text/html": [
       "<div>\n",
       "<style scoped>\n",
       "    .dataframe tbody tr th:only-of-type {\n",
       "        vertical-align: middle;\n",
       "    }\n",
       "\n",
       "    .dataframe tbody tr th {\n",
       "        vertical-align: top;\n",
       "    }\n",
       "\n",
       "    .dataframe thead th {\n",
       "        text-align: right;\n",
       "    }\n",
       "</style>\n",
       "<table border=\"1\" class=\"dataframe\">\n",
       "  <thead>\n",
       "    <tr style=\"text-align: right;\">\n",
       "      <th></th>\n",
       "      <th>prod_name</th>\n",
       "      <th>prod_desc</th>\n",
       "      <th>prod_price</th>\n",
       "      <th>prod_rating</th>\n",
       "      <th>prod_no_rating</th>\n",
       "      <th>prod_no_sold</th>\n",
       "      <th>sell_name</th>\n",
       "      <th>sell_rating</th>\n",
       "      <th>sell_no_products</th>\n",
       "      <th>sell_resprate</th>\n",
       "      <th>sell_resptime</th>\n",
       "      <th>sell_follower</th>\n",
       "      <th>sell_joined</th>\n",
       "    </tr>\n",
       "  </thead>\n",
       "  <tbody>\n",
       "    <tr>\n",
       "      <th>0</th>\n",
       "      <td>Preferred+\\n【Ready Stock 】 [Halal] NongShim Sh...</td>\n",
       "      <td>NaN</td>\n",
       "      <td>RM12.50</td>\n",
       "      <td>5.0</td>\n",
       "      <td>5.0</td>\n",
       "      <td>421</td>\n",
       "      <td>49shopp</td>\n",
       "      <td>23000</td>\n",
       "      <td>411</td>\n",
       "      <td>98%</td>\n",
       "      <td>within hours</td>\n",
       "      <td>9000</td>\n",
       "      <td>3 years ago</td>\n",
       "    </tr>\n",
       "    <tr>\n",
       "      <th>1</th>\n",
       "      <td>Halal Nongshim Ramen (Shin Ramyun / Kimchi Ram...</td>\n",
       "      <td>Expiry date :\\nShin ramyun - December 2021\\nKi...</td>\n",
       "      <td>RM15.90 - RM48.00</td>\n",
       "      <td>4.9</td>\n",
       "      <td>4.9</td>\n",
       "      <td>68</td>\n",
       "      <td>newlineresources.online</td>\n",
       "      <td>2000</td>\n",
       "      <td>57</td>\n",
       "      <td>81%</td>\n",
       "      <td>within hours</td>\n",
       "      <td>1000</td>\n",
       "      <td>12 months ago</td>\n",
       "    </tr>\n",
       "    <tr>\n",
       "      <th>2</th>\n",
       "      <td>Halal Nongshim Shin Ramyun/Kimchi Ramen/ neogu...</td>\n",
       "      <td>As part of the marketing strategies, Nongshim ...</td>\n",
       "      <td>RM63.50</td>\n",
       "      <td>NaN</td>\n",
       "      <td>0.0</td>\n",
       "      <td>0</td>\n",
       "      <td>newlineresources.online</td>\n",
       "      <td>2000</td>\n",
       "      <td>57</td>\n",
       "      <td>81%</td>\n",
       "      <td>within hours</td>\n",
       "      <td>1000</td>\n",
       "      <td>12 months ago</td>\n",
       "    </tr>\n",
       "    <tr>\n",
       "      <th>3</th>\n",
       "      <td>Preferred+\\nSHIN • KOREA KOREAN RAMEN POT ○ YE...</td>\n",
       "      <td>**Get Korean Spoon &amp; Chopsticks at Only RM10 w...</td>\n",
       "      <td>RM13.80 - RM69.80</td>\n",
       "      <td>4.9</td>\n",
       "      <td>4.9</td>\n",
       "      <td>788</td>\n",
       "      <td>imshin.</td>\n",
       "      <td>25000</td>\n",
       "      <td>421</td>\n",
       "      <td>99%</td>\n",
       "      <td>within hours</td>\n",
       "      <td>25000</td>\n",
       "      <td>5 years ago</td>\n",
       "    </tr>\n",
       "    <tr>\n",
       "      <th>4</th>\n",
       "      <td>Preferred+\\n【Ready Stock】 (HALAL) Korea Nongsh...</td>\n",
       "      <td>1. Nongshim Shin Ramyun Bowl  (117g)\\n- Octobe...</td>\n",
       "      <td>RM4.50</td>\n",
       "      <td>5.0</td>\n",
       "      <td>5.0</td>\n",
       "      <td>967</td>\n",
       "      <td>49shopp</td>\n",
       "      <td>23000</td>\n",
       "      <td>411</td>\n",
       "      <td>98%</td>\n",
       "      <td>within hours</td>\n",
       "      <td>9000</td>\n",
       "      <td>3 years ago</td>\n",
       "    </tr>\n",
       "  </tbody>\n",
       "</table>\n",
       "</div>"
      ],
      "text/plain": [
       "                                           prod_name  \\\n",
       "0  Preferred+\\n【Ready Stock 】 [Halal] NongShim Sh...   \n",
       "1  Halal Nongshim Ramen (Shin Ramyun / Kimchi Ram...   \n",
       "2  Halal Nongshim Shin Ramyun/Kimchi Ramen/ neogu...   \n",
       "3  Preferred+\\nSHIN • KOREA KOREAN RAMEN POT ○ YE...   \n",
       "4  Preferred+\\n【Ready Stock】 (HALAL) Korea Nongsh...   \n",
       "\n",
       "                                           prod_desc         prod_price  \\\n",
       "0                                                NaN            RM12.50   \n",
       "1  Expiry date :\\nShin ramyun - December 2021\\nKi...  RM15.90 - RM48.00   \n",
       "2  As part of the marketing strategies, Nongshim ...            RM63.50   \n",
       "3  **Get Korean Spoon & Chopsticks at Only RM10 w...  RM13.80 - RM69.80   \n",
       "4  1. Nongshim Shin Ramyun Bowl  (117g)\\n- Octobe...             RM4.50   \n",
       "\n",
       "   prod_rating  prod_no_rating  prod_no_sold                sell_name  \\\n",
       "0          5.0             5.0           421                  49shopp   \n",
       "1          4.9             4.9            68  newlineresources.online   \n",
       "2          NaN             0.0             0  newlineresources.online   \n",
       "3          4.9             4.9           788                  imshin.   \n",
       "4          5.0             5.0           967                  49shopp   \n",
       "\n",
       "   sell_rating  sell_no_products sell_resprate sell_resptime  sell_follower  \\\n",
       "0        23000               411           98%  within hours           9000   \n",
       "1         2000                57           81%  within hours           1000   \n",
       "2         2000                57           81%  within hours           1000   \n",
       "3        25000               421           99%  within hours          25000   \n",
       "4        23000               411           98%  within hours           9000   \n",
       "\n",
       "     sell_joined  \n",
       "0    3 years ago  \n",
       "1  12 months ago  \n",
       "2  12 months ago  \n",
       "3    5 years ago  \n",
       "4    3 years ago  "
      ]
     },
     "execution_count": 10,
     "metadata": {},
     "output_type": "execute_result"
    }
   ],
   "source": [
    "df.head()"
   ]
  },
  {
   "cell_type": "code",
   "execution_count": 11,
   "metadata": {},
   "outputs": [],
   "source": [
    "## Transform days/months/years \n",
    "# Assume a month has 30 days for all \n",
    "def to_days(x):\n",
    "    x = x.lower()\n",
    "    temp_list = x.split()\n",
    "    if 'year' in x:\n",
    "        return int(temp_list[0])*12*30\n",
    "    elif 'month' in x:\n",
    "        return int(temp_list[0])*30\n",
    "    else:\n",
    "        return int(temp_list[0])"
   ]
  },
  {
   "cell_type": "code",
   "execution_count": 12,
   "metadata": {},
   "outputs": [],
   "source": [
    "df['sell_joined'] = df['sell_joined'].apply(to_days)"
   ]
  },
  {
   "cell_type": "code",
   "execution_count": 13,
   "metadata": {},
   "outputs": [],
   "source": [
    "# Turn percentage into actual number\n",
    "df['sell_resprate'] = df['sell_resprate'].str.rstrip('%').astype('float')/100.0"
   ]
  },
  {
   "cell_type": "code",
   "execution_count": 14,
   "metadata": {},
   "outputs": [],
   "source": [
    "## Clean price column\n",
    "\n",
    "# Remove the currency\n",
    "df['prod_price'] = df['prod_price'].apply(lambda x: x.replace('RM',''))\n",
    "\n",
    "# Only take the minimum price if got range\n",
    "df['prod_price'] = df['prod_price'].apply(lambda x: float(x.split('-')[0]))"
   ]
  },
  {
   "cell_type": "code",
   "execution_count": 15,
   "metadata": {},
   "outputs": [
    {
     "data": {
      "text/plain": [
       "prod_name            object\n",
       "prod_desc            object\n",
       "prod_price          float64\n",
       "prod_rating         float64\n",
       "prod_no_rating      float64\n",
       "prod_no_sold          int64\n",
       "sell_name            object\n",
       "sell_rating           int64\n",
       "sell_no_products      int64\n",
       "sell_resprate       float64\n",
       "sell_resptime        object\n",
       "sell_follower         int64\n",
       "sell_joined           int64\n",
       "dtype: object"
      ]
     },
     "execution_count": 15,
     "metadata": {},
     "output_type": "execute_result"
    }
   ],
   "source": [
    "df.dtypes"
   ]
  },
  {
   "cell_type": "code",
   "execution_count": 16,
   "metadata": {},
   "outputs": [
    {
     "data": {
      "text/html": [
       "<div>\n",
       "<style scoped>\n",
       "    .dataframe tbody tr th:only-of-type {\n",
       "        vertical-align: middle;\n",
       "    }\n",
       "\n",
       "    .dataframe tbody tr th {\n",
       "        vertical-align: top;\n",
       "    }\n",
       "\n",
       "    .dataframe thead th {\n",
       "        text-align: right;\n",
       "    }\n",
       "</style>\n",
       "<table border=\"1\" class=\"dataframe\">\n",
       "  <thead>\n",
       "    <tr style=\"text-align: right;\">\n",
       "      <th></th>\n",
       "      <th>prod_name</th>\n",
       "      <th>prod_desc</th>\n",
       "      <th>prod_price</th>\n",
       "      <th>prod_rating</th>\n",
       "      <th>prod_no_rating</th>\n",
       "      <th>prod_no_sold</th>\n",
       "      <th>sell_name</th>\n",
       "      <th>sell_rating</th>\n",
       "      <th>sell_no_products</th>\n",
       "      <th>sell_resprate</th>\n",
       "      <th>sell_resptime</th>\n",
       "      <th>sell_follower</th>\n",
       "      <th>sell_joined</th>\n",
       "    </tr>\n",
       "  </thead>\n",
       "  <tbody>\n",
       "    <tr>\n",
       "      <th>0</th>\n",
       "      <td>Preferred+\\n【Ready Stock 】 [Halal] NongShim Sh...</td>\n",
       "      <td>NaN</td>\n",
       "      <td>12.5</td>\n",
       "      <td>5.0</td>\n",
       "      <td>5.0</td>\n",
       "      <td>421</td>\n",
       "      <td>49shopp</td>\n",
       "      <td>23000</td>\n",
       "      <td>411</td>\n",
       "      <td>0.98</td>\n",
       "      <td>within hours</td>\n",
       "      <td>9000</td>\n",
       "      <td>1080</td>\n",
       "    </tr>\n",
       "    <tr>\n",
       "      <th>1</th>\n",
       "      <td>Halal Nongshim Ramen (Shin Ramyun / Kimchi Ram...</td>\n",
       "      <td>Expiry date :\\nShin ramyun - December 2021\\nKi...</td>\n",
       "      <td>15.9</td>\n",
       "      <td>4.9</td>\n",
       "      <td>4.9</td>\n",
       "      <td>68</td>\n",
       "      <td>newlineresources.online</td>\n",
       "      <td>2000</td>\n",
       "      <td>57</td>\n",
       "      <td>0.81</td>\n",
       "      <td>within hours</td>\n",
       "      <td>1000</td>\n",
       "      <td>360</td>\n",
       "    </tr>\n",
       "    <tr>\n",
       "      <th>2</th>\n",
       "      <td>Halal Nongshim Shin Ramyun/Kimchi Ramen/ neogu...</td>\n",
       "      <td>As part of the marketing strategies, Nongshim ...</td>\n",
       "      <td>63.5</td>\n",
       "      <td>NaN</td>\n",
       "      <td>0.0</td>\n",
       "      <td>0</td>\n",
       "      <td>newlineresources.online</td>\n",
       "      <td>2000</td>\n",
       "      <td>57</td>\n",
       "      <td>0.81</td>\n",
       "      <td>within hours</td>\n",
       "      <td>1000</td>\n",
       "      <td>360</td>\n",
       "    </tr>\n",
       "    <tr>\n",
       "      <th>3</th>\n",
       "      <td>Preferred+\\nSHIN • KOREA KOREAN RAMEN POT ○ YE...</td>\n",
       "      <td>**Get Korean Spoon &amp; Chopsticks at Only RM10 w...</td>\n",
       "      <td>13.8</td>\n",
       "      <td>4.9</td>\n",
       "      <td>4.9</td>\n",
       "      <td>788</td>\n",
       "      <td>imshin.</td>\n",
       "      <td>25000</td>\n",
       "      <td>421</td>\n",
       "      <td>0.99</td>\n",
       "      <td>within hours</td>\n",
       "      <td>25000</td>\n",
       "      <td>1800</td>\n",
       "    </tr>\n",
       "    <tr>\n",
       "      <th>4</th>\n",
       "      <td>Preferred+\\n【Ready Stock】 (HALAL) Korea Nongsh...</td>\n",
       "      <td>1. Nongshim Shin Ramyun Bowl  (117g)\\n- Octobe...</td>\n",
       "      <td>4.5</td>\n",
       "      <td>5.0</td>\n",
       "      <td>5.0</td>\n",
       "      <td>967</td>\n",
       "      <td>49shopp</td>\n",
       "      <td>23000</td>\n",
       "      <td>411</td>\n",
       "      <td>0.98</td>\n",
       "      <td>within hours</td>\n",
       "      <td>9000</td>\n",
       "      <td>1080</td>\n",
       "    </tr>\n",
       "  </tbody>\n",
       "</table>\n",
       "</div>"
      ],
      "text/plain": [
       "                                           prod_name  \\\n",
       "0  Preferred+\\n【Ready Stock 】 [Halal] NongShim Sh...   \n",
       "1  Halal Nongshim Ramen (Shin Ramyun / Kimchi Ram...   \n",
       "2  Halal Nongshim Shin Ramyun/Kimchi Ramen/ neogu...   \n",
       "3  Preferred+\\nSHIN • KOREA KOREAN RAMEN POT ○ YE...   \n",
       "4  Preferred+\\n【Ready Stock】 (HALAL) Korea Nongsh...   \n",
       "\n",
       "                                           prod_desc  prod_price  prod_rating  \\\n",
       "0                                                NaN        12.5          5.0   \n",
       "1  Expiry date :\\nShin ramyun - December 2021\\nKi...        15.9          4.9   \n",
       "2  As part of the marketing strategies, Nongshim ...        63.5          NaN   \n",
       "3  **Get Korean Spoon & Chopsticks at Only RM10 w...        13.8          4.9   \n",
       "4  1. Nongshim Shin Ramyun Bowl  (117g)\\n- Octobe...         4.5          5.0   \n",
       "\n",
       "   prod_no_rating  prod_no_sold                sell_name  sell_rating  \\\n",
       "0             5.0           421                  49shopp        23000   \n",
       "1             4.9            68  newlineresources.online         2000   \n",
       "2             0.0             0  newlineresources.online         2000   \n",
       "3             4.9           788                  imshin.        25000   \n",
       "4             5.0           967                  49shopp        23000   \n",
       "\n",
       "   sell_no_products  sell_resprate sell_resptime  sell_follower  sell_joined  \n",
       "0               411           0.98  within hours           9000         1080  \n",
       "1                57           0.81  within hours           1000          360  \n",
       "2                57           0.81  within hours           1000          360  \n",
       "3               421           0.99  within hours          25000         1800  \n",
       "4               411           0.98  within hours           9000         1080  "
      ]
     },
     "execution_count": 16,
     "metadata": {},
     "output_type": "execute_result"
    }
   ],
   "source": [
    "df.head()"
   ]
  },
  {
   "cell_type": "code",
   "execution_count": 17,
   "metadata": {},
   "outputs": [],
   "source": [
    "# Categorize response time\n",
    "## Not using this anymore because it will be clearer to use the original category\n",
    "def time_to_int(x):\n",
    "    if x == \"within minutes\":\n",
    "        return 1\n",
    "    elif x == \"within hours\":\n",
    "        return 2\n",
    "    elif x == \"within days\":\n",
    "        return 3\n",
    "    else:\n",
    "        return 0\n",
    "\n",
    "# df['sell_resptime'] = df['sell_resptime'].apply(time_to_int)"
   ]
  },
  {
   "cell_type": "markdown",
   "metadata": {},
   "source": [
    "## Exploratory Data Analysis\n",
    "\n",
    "The purpose of Exploratory Data Analysis (EDA) is to understand the data as much as possible and to find out the relationship between each variable with the dependent variable. In this case study, the dependent variable chosen is number of products sold."
   ]
  },
  {
   "cell_type": "markdown",
   "metadata": {},
   "source": [
    "### Analyze numerical features"
   ]
  },
  {
   "cell_type": "code",
   "execution_count": 18,
   "metadata": {},
   "outputs": [
    {
     "data": {
      "text/plain": [
       "['prod_price',\n",
       " 'prod_rating',\n",
       " 'prod_no_rating',\n",
       " 'prod_no_sold',\n",
       " 'sell_rating',\n",
       " 'sell_no_products',\n",
       " 'sell_resprate',\n",
       " 'sell_follower',\n",
       " 'sell_joined']"
      ]
     },
     "execution_count": 18,
     "metadata": {},
     "output_type": "execute_result"
    }
   ],
   "source": [
    "numerical_features = [feature for feature in df.columns if df[feature].dtypes != 'O']\n",
    "numerical_features"
   ]
  },
  {
   "cell_type": "code",
   "execution_count": 19,
   "metadata": {},
   "outputs": [
    {
     "data": {
      "text/html": [
       "<div>\n",
       "<style scoped>\n",
       "    .dataframe tbody tr th:only-of-type {\n",
       "        vertical-align: middle;\n",
       "    }\n",
       "\n",
       "    .dataframe tbody tr th {\n",
       "        vertical-align: top;\n",
       "    }\n",
       "\n",
       "    .dataframe thead th {\n",
       "        text-align: right;\n",
       "    }\n",
       "</style>\n",
       "<table border=\"1\" class=\"dataframe\">\n",
       "  <thead>\n",
       "    <tr style=\"text-align: right;\">\n",
       "      <th></th>\n",
       "      <th>prod_price</th>\n",
       "      <th>prod_rating</th>\n",
       "      <th>prod_no_rating</th>\n",
       "      <th>prod_no_sold</th>\n",
       "      <th>sell_rating</th>\n",
       "      <th>sell_no_products</th>\n",
       "      <th>sell_resprate</th>\n",
       "      <th>sell_follower</th>\n",
       "      <th>sell_joined</th>\n",
       "    </tr>\n",
       "  </thead>\n",
       "  <tbody>\n",
       "    <tr>\n",
       "      <th>0</th>\n",
       "      <td>12.5</td>\n",
       "      <td>5.0</td>\n",
       "      <td>5.0</td>\n",
       "      <td>421</td>\n",
       "      <td>23000</td>\n",
       "      <td>411</td>\n",
       "      <td>0.98</td>\n",
       "      <td>9000</td>\n",
       "      <td>1080</td>\n",
       "    </tr>\n",
       "    <tr>\n",
       "      <th>1</th>\n",
       "      <td>15.9</td>\n",
       "      <td>4.9</td>\n",
       "      <td>4.9</td>\n",
       "      <td>68</td>\n",
       "      <td>2000</td>\n",
       "      <td>57</td>\n",
       "      <td>0.81</td>\n",
       "      <td>1000</td>\n",
       "      <td>360</td>\n",
       "    </tr>\n",
       "    <tr>\n",
       "      <th>2</th>\n",
       "      <td>63.5</td>\n",
       "      <td>NaN</td>\n",
       "      <td>0.0</td>\n",
       "      <td>0</td>\n",
       "      <td>2000</td>\n",
       "      <td>57</td>\n",
       "      <td>0.81</td>\n",
       "      <td>1000</td>\n",
       "      <td>360</td>\n",
       "    </tr>\n",
       "    <tr>\n",
       "      <th>3</th>\n",
       "      <td>13.8</td>\n",
       "      <td>4.9</td>\n",
       "      <td>4.9</td>\n",
       "      <td>788</td>\n",
       "      <td>25000</td>\n",
       "      <td>421</td>\n",
       "      <td>0.99</td>\n",
       "      <td>25000</td>\n",
       "      <td>1800</td>\n",
       "    </tr>\n",
       "    <tr>\n",
       "      <th>4</th>\n",
       "      <td>4.5</td>\n",
       "      <td>5.0</td>\n",
       "      <td>5.0</td>\n",
       "      <td>967</td>\n",
       "      <td>23000</td>\n",
       "      <td>411</td>\n",
       "      <td>0.98</td>\n",
       "      <td>9000</td>\n",
       "      <td>1080</td>\n",
       "    </tr>\n",
       "  </tbody>\n",
       "</table>\n",
       "</div>"
      ],
      "text/plain": [
       "   prod_price  prod_rating  prod_no_rating  prod_no_sold  sell_rating  \\\n",
       "0        12.5          5.0             5.0           421        23000   \n",
       "1        15.9          4.9             4.9            68         2000   \n",
       "2        63.5          NaN             0.0             0         2000   \n",
       "3        13.8          4.9             4.9           788        25000   \n",
       "4         4.5          5.0             5.0           967        23000   \n",
       "\n",
       "   sell_no_products  sell_resprate  sell_follower  sell_joined  \n",
       "0               411           0.98           9000         1080  \n",
       "1                57           0.81           1000          360  \n",
       "2                57           0.81           1000          360  \n",
       "3               421           0.99          25000         1800  \n",
       "4               411           0.98           9000         1080  "
      ]
     },
     "execution_count": 19,
     "metadata": {},
     "output_type": "execute_result"
    }
   ],
   "source": [
    "df[numerical_features].head()"
   ]
  },
  {
   "cell_type": "code",
   "execution_count": 20,
   "metadata": {},
   "outputs": [
    {
     "data": {
      "text/plain": [
       "['prod_rating', 'prod_no_rating']"
      ]
     },
     "execution_count": 20,
     "metadata": {},
     "output_type": "execute_result"
    }
   ],
   "source": [
    "# Extract discrete feature\n",
    "discrete_threshold = 25\n",
    "discrete_features = [feature for feature in numerical_features if len(df[feature].unique())<25]\n",
    "discrete_features"
   ]
  },
  {
   "cell_type": "code",
   "execution_count": 21,
   "metadata": {},
   "outputs": [
    {
     "data": {
      "text/html": [
       "<div>\n",
       "<style scoped>\n",
       "    .dataframe tbody tr th:only-of-type {\n",
       "        vertical-align: middle;\n",
       "    }\n",
       "\n",
       "    .dataframe tbody tr th {\n",
       "        vertical-align: top;\n",
       "    }\n",
       "\n",
       "    .dataframe thead th {\n",
       "        text-align: right;\n",
       "    }\n",
       "</style>\n",
       "<table border=\"1\" class=\"dataframe\">\n",
       "  <thead>\n",
       "    <tr style=\"text-align: right;\">\n",
       "      <th></th>\n",
       "      <th>prod_rating</th>\n",
       "      <th>prod_no_rating</th>\n",
       "    </tr>\n",
       "  </thead>\n",
       "  <tbody>\n",
       "    <tr>\n",
       "      <th>0</th>\n",
       "      <td>5.0</td>\n",
       "      <td>5.0</td>\n",
       "    </tr>\n",
       "    <tr>\n",
       "      <th>1</th>\n",
       "      <td>4.9</td>\n",
       "      <td>4.9</td>\n",
       "    </tr>\n",
       "    <tr>\n",
       "      <th>2</th>\n",
       "      <td>NaN</td>\n",
       "      <td>0.0</td>\n",
       "    </tr>\n",
       "    <tr>\n",
       "      <th>3</th>\n",
       "      <td>4.9</td>\n",
       "      <td>4.9</td>\n",
       "    </tr>\n",
       "    <tr>\n",
       "      <th>4</th>\n",
       "      <td>5.0</td>\n",
       "      <td>5.0</td>\n",
       "    </tr>\n",
       "  </tbody>\n",
       "</table>\n",
       "</div>"
      ],
      "text/plain": [
       "   prod_rating  prod_no_rating\n",
       "0          5.0             5.0\n",
       "1          4.9             4.9\n",
       "2          NaN             0.0\n",
       "3          4.9             4.9\n",
       "4          5.0             5.0"
      ]
     },
     "execution_count": 21,
     "metadata": {},
     "output_type": "execute_result"
    }
   ],
   "source": [
    "df[discrete_features].head()"
   ]
  },
  {
   "cell_type": "code",
   "execution_count": 22,
   "metadata": {},
   "outputs": [
    {
     "data": {
      "text/plain": [
       "['prod_rating']"
      ]
     },
     "execution_count": 22,
     "metadata": {},
     "output_type": "execute_result"
    }
   ],
   "source": [
    "discrete_features.remove('prod_no_rating') # Remove because data collection \n",
    "discrete_features"
   ]
  },
  {
   "cell_type": "code",
   "execution_count": 23,
   "metadata": {},
   "outputs": [
    {
     "data": {
      "image/png": "[encoded data removed]",
      "text/plain": [
       "<Figure size 432x288 with 1 Axes>"
      ]
     },
     "metadata": {
      "needs_background": "light"
     },
     "output_type": "display_data"
    }
   ],
   "source": [
    "for feature in discrete_features:\n",
    "    data = df.copy()\n",
    "    data.groupby(feature)['prod_no_sold'].median().plot.bar()\n",
    "    plt.xlabel(feature)\n",
    "    plt.ylabel(\"Number of Products Sold\")\n",
    "    plt.title(feature)\n",
    "    plt.show()"
   ]
  },
  {
   "cell_type": "markdown",
   "metadata": {},
   "source": [
    "The graph above shows that product with rating of 4.9 has the highest median of number of products of sold, followed by number of products sold."
   ]
  },
  {
   "cell_type": "code",
   "execution_count": 24,
   "metadata": {},
   "outputs": [
    {
     "data": {
      "text/plain": [
       "['prod_price',\n",
       " 'prod_no_rating',\n",
       " 'prod_no_sold',\n",
       " 'sell_rating',\n",
       " 'sell_no_products',\n",
       " 'sell_resprate',\n",
       " 'sell_follower',\n",
       " 'sell_joined']"
      ]
     },
     "execution_count": 24,
     "metadata": {},
     "output_type": "execute_result"
    }
   ],
   "source": [
    "# Dealing with continuous feature\n",
    "\n",
    "continuous_features = [feature for feature in numerical_features if feature not in discrete_features]\n",
    "continuous_features"
   ]
  },
  {
   "cell_type": "code",
   "execution_count": 25,
   "metadata": {},
   "outputs": [
    {
     "data": {
      "text/html": [
       "<div>\n",
       "<style scoped>\n",
       "    .dataframe tbody tr th:only-of-type {\n",
       "        vertical-align: middle;\n",
       "    }\n",
       "\n",
       "    .dataframe tbody tr th {\n",
       "        vertical-align: top;\n",
       "    }\n",
       "\n",
       "    .dataframe thead th {\n",
       "        text-align: right;\n",
       "    }\n",
       "</style>\n",
       "<table border=\"1\" class=\"dataframe\">\n",
       "  <thead>\n",
       "    <tr style=\"text-align: right;\">\n",
       "      <th></th>\n",
       "      <th>prod_price</th>\n",
       "      <th>prod_no_rating</th>\n",
       "      <th>prod_no_sold</th>\n",
       "      <th>sell_rating</th>\n",
       "      <th>sell_no_products</th>\n",
       "      <th>sell_resprate</th>\n",
       "      <th>sell_follower</th>\n",
       "      <th>sell_joined</th>\n",
       "    </tr>\n",
       "  </thead>\n",
       "  <tbody>\n",
       "    <tr>\n",
       "      <th>0</th>\n",
       "      <td>12.5</td>\n",
       "      <td>5.0</td>\n",
       "      <td>421</td>\n",
       "      <td>23000</td>\n",
       "      <td>411</td>\n",
       "      <td>0.98</td>\n",
       "      <td>9000</td>\n",
       "      <td>1080</td>\n",
       "    </tr>\n",
       "    <tr>\n",
       "      <th>1</th>\n",
       "      <td>15.9</td>\n",
       "      <td>4.9</td>\n",
       "      <td>68</td>\n",
       "      <td>2000</td>\n",
       "      <td>57</td>\n",
       "      <td>0.81</td>\n",
       "      <td>1000</td>\n",
       "      <td>360</td>\n",
       "    </tr>\n",
       "    <tr>\n",
       "      <th>2</th>\n",
       "      <td>63.5</td>\n",
       "      <td>0.0</td>\n",
       "      <td>0</td>\n",
       "      <td>2000</td>\n",
       "      <td>57</td>\n",
       "      <td>0.81</td>\n",
       "      <td>1000</td>\n",
       "      <td>360</td>\n",
       "    </tr>\n",
       "    <tr>\n",
       "      <th>3</th>\n",
       "      <td>13.8</td>\n",
       "      <td>4.9</td>\n",
       "      <td>788</td>\n",
       "      <td>25000</td>\n",
       "      <td>421</td>\n",
       "      <td>0.99</td>\n",
       "      <td>25000</td>\n",
       "      <td>1800</td>\n",
       "    </tr>\n",
       "    <tr>\n",
       "      <th>4</th>\n",
       "      <td>4.5</td>\n",
       "      <td>5.0</td>\n",
       "      <td>967</td>\n",
       "      <td>23000</td>\n",
       "      <td>411</td>\n",
       "      <td>0.98</td>\n",
       "      <td>9000</td>\n",
       "      <td>1080</td>\n",
       "    </tr>\n",
       "  </tbody>\n",
       "</table>\n",
       "</div>"
      ],
      "text/plain": [
       "   prod_price  prod_no_rating  prod_no_sold  sell_rating  sell_no_products  \\\n",
       "0        12.5             5.0           421        23000               411   \n",
       "1        15.9             4.9            68         2000                57   \n",
       "2        63.5             0.0             0         2000                57   \n",
       "3        13.8             4.9           788        25000               421   \n",
       "4         4.5             5.0           967        23000               411   \n",
       "\n",
       "   sell_resprate  sell_follower  sell_joined  \n",
       "0           0.98           9000         1080  \n",
       "1           0.81           1000          360  \n",
       "2           0.81           1000          360  \n",
       "3           0.99          25000         1800  \n",
       "4           0.98           9000         1080  "
      ]
     },
     "execution_count": 25,
     "metadata": {},
     "output_type": "execute_result"
    }
   ],
   "source": [
    "df[continuous_features].head()"
   ]
  },
  {
   "cell_type": "code",
   "execution_count": 26,
   "metadata": {},
   "outputs": [
    {
     "data": {
      "image/png": "[encoded data removed]",
      "text/plain": [
       "<Figure size 432x288 with 1 Axes>"
      ]
     },
     "metadata": {
      "needs_background": "light"
     },
     "output_type": "display_data"
    },
    {
     "data": {
      "image/png": "[encoded data removed]",
      "text/plain": [
       "<Figure size 432x288 with 1 Axes>"
      ]
     },
     "metadata": {
      "needs_background": "light"
     },
     "output_type": "display_data"
    },
    {
     "data": {
      "image/png": "[encoded data removed]",
      "text/plain": [
       "<Figure size 432x288 with 1 Axes>"
      ]
     },
     "metadata": {
      "needs_background": "light"
     },
     "output_type": "display_data"
    },
    {
     "data": {
      "image/png": "[encoded data removed]",
      "text/plain": [
       "<Figure size 432x288 with 1 Axes>"
      ]
     },
     "metadata": {
      "needs_background": "light"
     },
     "output_type": "display_data"
    },
    {
     "data": {
      "image/png": "[encoded data removed]",
      "text/plain": [
       "<Figure size 432x288 with 1 Axes>"
      ]
     },
     "metadata": {
      "needs_background": "light"
     },
     "output_type": "display_data"
    },
    {
     "data": {
      "image/png": "[encoded data removed]",
      "text/plain": [
       "<Figure size 432x288 with 1 Axes>"
      ]
     },
     "metadata": {
      "needs_background": "light"
     },
     "output_type": "display_data"
    },
    {
     "data": {
      "image/png": "[encoded data removed]",
      "text/plain": [
       "<Figure size 432x288 with 1 Axes>"
      ]
     },
     "metadata": {
      "needs_background": "light"
     },
     "output_type": "display_data"
    },
    {
     "data": {
      "image/png": "[encoded data removed]",
      "text/plain": [
       "<Figure size 432x288 with 1 Axes>"
      ]
     },
     "metadata": {
      "needs_background": "light"
     },
     "output_type": "display_data"
    }
   ],
   "source": [
    "# Use histogram to understand the distribution of each variable\n",
    "for feature in continuous_features:\n",
    "    data = df.copy()\n",
    "    data[feature].hist(bins=50)\n",
    "    plt.xlabel(feature)\n",
    "    plt.ylabel(\"Count\")\n",
    "    plt.title(feature)\n",
    "    plt.show()"
   ]
  },
  {
   "cell_type": "code",
   "execution_count": 27,
   "metadata": {},
   "outputs": [
    {
     "name": "stderr",
     "output_type": "stream",
     "text": [
      "C:\\Users\\Han\\Anaconda3\\lib\\site-packages\\pandas\\core\\arraylike.py:358: RuntimeWarning: divide by zero encountered in log\n",
      "  result = getattr(ufunc, method)(*inputs, **kwargs)\n"
     ]
    },
    {
     "data": {
      "image/png": "[encoded data removed]",
      "text/plain": [
       "<Figure size 432x288 with 1 Axes>"
      ]
     },
     "metadata": {
      "needs_background": "light"
     },
     "output_type": "display_data"
    },
    {
     "data": {
      "image/png": "[encoded data removed]",
      "text/plain": [
       "<Figure size 432x288 with 1 Axes>"
      ]
     },
     "metadata": {
      "needs_background": "light"
     },
     "output_type": "display_data"
    },
    {
     "data": {
      "image/png": "[encoded data removed]",
      "text/plain": [
       "<Figure size 432x288 with 1 Axes>"
      ]
     },
     "metadata": {
      "needs_background": "light"
     },
     "output_type": "display_data"
    },
    {
     "data": {
      "image/png": "[encoded data removed]",
      "text/plain": [
       "<Figure size 432x288 with 1 Axes>"
      ]
     },
     "metadata": {
      "needs_background": "light"
     },
     "output_type": "display_data"
    }
   ],
   "source": [
    "# Use Logarithmic transformation to make data more interpretable\n",
    "\n",
    "for feature in continuous_features:\n",
    "    data=df.copy()\n",
    "    if 0 in data[feature].unique():\n",
    "        pass\n",
    "    else:\n",
    "        data[feature]=np.log(data[feature])\n",
    "        data['prod_no_sold']=np.log(data['prod_no_sold'])\n",
    "        plt.scatter(data[feature],data['prod_no_sold'])\n",
    "        plt.xlabel(feature)\n",
    "        plt.ylabel('Number of Products Sold')\n",
    "        plt.title(feature)\n",
    "        plt.show()"
   ]
  },
  {
   "cell_type": "markdown",
   "metadata": {},
   "source": [
    "prod_price\n",
    "- As shown by the graph, there is no clear pattern between product price with number of products sold.\n",
    "\n",
    "sell_no_products\n",
    "- As shown by the graph, there is no clear pattern between number of products sold by sellers and the number of products sold\n",
    "\n",
    "sell_resprate\n",
    "- As shown by the graph, there is a clear grouping at sell_resprate = 0. This means that majority of the sellers have high response rate. It is also shown that the higher the seller response rate, the higher the number of products sold.\n",
    "\n",
    "sell_joined\n",
    "- As shown by the graph, there is a clear increase of number of products sold as the duration of seller joined increases. This can be inferred as the longer the sellers stay in the seller platform, the more likely that they will gain more credibility, hence it turns into product sales."
   ]
  },
  {
   "cell_type": "code",
   "execution_count": 28,
   "metadata": {},
   "outputs": [
    {
     "data": {
      "image/png": "[encoded data removed]",
      "text/plain": [
       "<Figure size 432x288 with 1 Axes>"
      ]
     },
     "metadata": {
      "needs_background": "light"
     },
     "output_type": "display_data"
    },
    {
     "data": {
      "image/png": "[encoded data removed]",
      "text/plain": [
       "<Figure size 432x288 with 1 Axes>"
      ]
     },
     "metadata": {
      "needs_background": "light"
     },
     "output_type": "display_data"
    },
    {
     "data": {
      "image/png": "[encoded data removed]",
      "text/plain": [
       "<Figure size 432x288 with 1 Axes>"
      ]
     },
     "metadata": {
      "needs_background": "light"
     },
     "output_type": "display_data"
    },
    {
     "data": {
      "image/png": "[encoded data removed]",
      "text/plain": [
       "<Figure size 432x288 with 1 Axes>"
      ]
     },
     "metadata": {
      "needs_background": "light"
     },
     "output_type": "display_data"
    }
   ],
   "source": [
    "# Finding out outliers\n",
    "\n",
    "for feature in continuous_features:\n",
    "    data=df.copy()\n",
    "    if 0 in data[feature].unique():\n",
    "        pass\n",
    "    else:\n",
    "        data[feature]=np.log(data[feature])\n",
    "        data.boxplot(column=feature)\n",
    "        plt.ylabel(feature)\n",
    "        plt.title(feature)\n",
    "        plt.show()"
   ]
  },
  {
   "cell_type": "code",
   "execution_count": 29,
   "metadata": {},
   "outputs": [
    {
     "data": {
      "text/plain": [
       "['prod_name', 'prod_desc', 'sell_name', 'sell_resptime']"
      ]
     },
     "execution_count": 29,
     "metadata": {},
     "output_type": "execute_result"
    }
   ],
   "source": [
    "categorical_features = [feature for feature in df.columns if df[feature].dtypes == 'O']\n",
    "categorical_features"
   ]
  },
  {
   "cell_type": "code",
   "execution_count": 30,
   "metadata": {},
   "outputs": [
    {
     "data": {
      "text/html": [
       "<div>\n",
       "<style scoped>\n",
       "    .dataframe tbody tr th:only-of-type {\n",
       "        vertical-align: middle;\n",
       "    }\n",
       "\n",
       "    .dataframe tbody tr th {\n",
       "        vertical-align: top;\n",
       "    }\n",
       "\n",
       "    .dataframe thead th {\n",
       "        text-align: right;\n",
       "    }\n",
       "</style>\n",
       "<table border=\"1\" class=\"dataframe\">\n",
       "  <thead>\n",
       "    <tr style=\"text-align: right;\">\n",
       "      <th></th>\n",
       "      <th>prod_name</th>\n",
       "      <th>prod_desc</th>\n",
       "      <th>sell_name</th>\n",
       "      <th>sell_resptime</th>\n",
       "    </tr>\n",
       "  </thead>\n",
       "  <tbody>\n",
       "    <tr>\n",
       "      <th>0</th>\n",
       "      <td>Preferred+\\n【Ready Stock 】 [Halal] NongShim Sh...</td>\n",
       "      <td>NaN</td>\n",
       "      <td>49shopp</td>\n",
       "      <td>within hours</td>\n",
       "    </tr>\n",
       "    <tr>\n",
       "      <th>1</th>\n",
       "      <td>Halal Nongshim Ramen (Shin Ramyun / Kimchi Ram...</td>\n",
       "      <td>Expiry date :\\nShin ramyun - December 2021\\nKi...</td>\n",
       "      <td>newlineresources.online</td>\n",
       "      <td>within hours</td>\n",
       "    </tr>\n",
       "    <tr>\n",
       "      <th>2</th>\n",
       "      <td>Halal Nongshim Shin Ramyun/Kimchi Ramen/ neogu...</td>\n",
       "      <td>As part of the marketing strategies, Nongshim ...</td>\n",
       "      <td>newlineresources.online</td>\n",
       "      <td>within hours</td>\n",
       "    </tr>\n",
       "    <tr>\n",
       "      <th>3</th>\n",
       "      <td>Preferred+\\nSHIN • KOREA KOREAN RAMEN POT ○ YE...</td>\n",
       "      <td>**Get Korean Spoon &amp; Chopsticks at Only RM10 w...</td>\n",
       "      <td>imshin.</td>\n",
       "      <td>within hours</td>\n",
       "    </tr>\n",
       "    <tr>\n",
       "      <th>4</th>\n",
       "      <td>Preferred+\\n【Ready Stock】 (HALAL) Korea Nongsh...</td>\n",
       "      <td>1. Nongshim Shin Ramyun Bowl  (117g)\\n- Octobe...</td>\n",
       "      <td>49shopp</td>\n",
       "      <td>within hours</td>\n",
       "    </tr>\n",
       "  </tbody>\n",
       "</table>\n",
       "</div>"
      ],
      "text/plain": [
       "                                           prod_name  \\\n",
       "0  Preferred+\\n【Ready Stock 】 [Halal] NongShim Sh...   \n",
       "1  Halal Nongshim Ramen (Shin Ramyun / Kimchi Ram...   \n",
       "2  Halal Nongshim Shin Ramyun/Kimchi Ramen/ neogu...   \n",
       "3  Preferred+\\nSHIN • KOREA KOREAN RAMEN POT ○ YE...   \n",
       "4  Preferred+\\n【Ready Stock】 (HALAL) Korea Nongsh...   \n",
       "\n",
       "                                           prod_desc                sell_name  \\\n",
       "0                                                NaN                  49shopp   \n",
       "1  Expiry date :\\nShin ramyun - December 2021\\nKi...  newlineresources.online   \n",
       "2  As part of the marketing strategies, Nongshim ...  newlineresources.online   \n",
       "3  **Get Korean Spoon & Chopsticks at Only RM10 w...                  imshin.   \n",
       "4  1. Nongshim Shin Ramyun Bowl  (117g)\\n- Octobe...                  49shopp   \n",
       "\n",
       "  sell_resptime  \n",
       "0  within hours  \n",
       "1  within hours  \n",
       "2  within hours  \n",
       "3  within hours  \n",
       "4  within hours  "
      ]
     },
     "execution_count": 30,
     "metadata": {},
     "output_type": "execute_result"
    }
   ],
   "source": [
    "df[categorical_features].head()"
   ]
  },
  {
   "cell_type": "code",
   "execution_count": 31,
   "metadata": {},
   "outputs": [
    {
     "name": "stdout",
     "output_type": "stream",
     "text": [
      "prod_name 426\n",
      "prod_desc 381\n",
      "sell_name 300\n",
      "sell_resptime 3\n"
     ]
    }
   ],
   "source": [
    "# Find out the number of unique categories\n",
    "for i in categorical_features:\n",
    "    print(i, len(df[i].unique()))"
   ]
  },
  {
   "cell_type": "code",
   "execution_count": 32,
   "metadata": {},
   "outputs": [
    {
     "data": {
      "image/png": "[encoded data removed]",
      "text/plain": [
       "<Figure size 432x288 with 1 Axes>"
      ]
     },
     "metadata": {
      "needs_background": "light"
     },
     "output_type": "display_data"
    }
   ],
   "source": [
    "# Only sell_resprate is used because the others have way too many categories\n",
    "data = df.copy()\n",
    "data.groupby('sell_resptime')['prod_no_sold'].mean().plot.bar()\n",
    "plt.xlabel('Seller Response Time')\n",
    "plt.ylabel('Number of Products Sold')\n",
    "plt.title('Seller Response Rate')\n",
    "plt.show()"
   ]
  },
  {
   "cell_type": "markdown",
   "metadata": {},
   "source": [
    "As shown by the graph, the faster the seller response, the more the products are getting sold."
   ]
  },
  {
   "cell_type": "code",
   "execution_count": 33,
   "metadata": {},
   "outputs": [
    {
     "data": {
      "text/plain": [
       "sell_name\n",
       "vkmarket       13000\n",
       "onlineku.os     4000\n",
       "49shopp         3612\n",
       "imshin.         2287\n",
       "topstore.       2052\n",
       "Name: prod_no_sold, dtype: int64"
      ]
     },
     "execution_count": 33,
     "metadata": {},
     "output_type": "execute_result"
    }
   ],
   "source": [
    "# Find out the top 5 sellers\n",
    "df.groupby('sell_name')['prod_no_sold'].sum().nlargest(5)"
   ]
  },
  {
   "cell_type": "code",
   "execution_count": 35,
   "metadata": {},
   "outputs": [
    {
     "data": {
      "text/html": [
       "<div>\n",
       "<style scoped>\n",
       "    .dataframe tbody tr th:only-of-type {\n",
       "        vertical-align: middle;\n",
       "    }\n",
       "\n",
       "    .dataframe tbody tr th {\n",
       "        vertical-align: top;\n",
       "    }\n",
       "\n",
       "    .dataframe thead th {\n",
       "        text-align: right;\n",
       "    }\n",
       "</style>\n",
       "<table border=\"1\" class=\"dataframe\">\n",
       "  <thead>\n",
       "    <tr style=\"text-align: right;\">\n",
       "      <th></th>\n",
       "      <th>prod_name</th>\n",
       "      <th>prod_desc</th>\n",
       "      <th>prod_price</th>\n",
       "      <th>prod_rating</th>\n",
       "      <th>prod_no_rating</th>\n",
       "      <th>prod_no_sold</th>\n",
       "      <th>sell_name</th>\n",
       "      <th>sell_rating</th>\n",
       "      <th>sell_no_products</th>\n",
       "      <th>sell_resprate</th>\n",
       "      <th>sell_resptime</th>\n",
       "      <th>sell_follower</th>\n",
       "      <th>sell_joined</th>\n",
       "    </tr>\n",
       "  </thead>\n",
       "  <tbody>\n",
       "    <tr>\n",
       "      <th>0</th>\n",
       "      <td>Preferred+\\n【Ready Stock 】 [Halal] NongShim Sh...</td>\n",
       "      <td>NaN</td>\n",
       "      <td>12.5</td>\n",
       "      <td>5.0</td>\n",
       "      <td>5.0</td>\n",
       "      <td>421</td>\n",
       "      <td>49shopp</td>\n",
       "      <td>23000</td>\n",
       "      <td>411</td>\n",
       "      <td>0.98</td>\n",
       "      <td>within hours</td>\n",
       "      <td>9000</td>\n",
       "      <td>1080</td>\n",
       "    </tr>\n",
       "    <tr>\n",
       "      <th>1</th>\n",
       "      <td>Halal Nongshim Ramen (Shin Ramyun / Kimchi Ram...</td>\n",
       "      <td>Expiry date :\\nShin ramyun - December 2021\\nKi...</td>\n",
       "      <td>15.9</td>\n",
       "      <td>4.9</td>\n",
       "      <td>4.9</td>\n",
       "      <td>68</td>\n",
       "      <td>newlineresources.online</td>\n",
       "      <td>2000</td>\n",
       "      <td>57</td>\n",
       "      <td>0.81</td>\n",
       "      <td>within hours</td>\n",
       "      <td>1000</td>\n",
       "      <td>360</td>\n",
       "    </tr>\n",
       "    <tr>\n",
       "      <th>2</th>\n",
       "      <td>Halal Nongshim Shin Ramyun/Kimchi Ramen/ neogu...</td>\n",
       "      <td>As part of the marketing strategies, Nongshim ...</td>\n",
       "      <td>63.5</td>\n",
       "      <td>NaN</td>\n",
       "      <td>0.0</td>\n",
       "      <td>0</td>\n",
       "      <td>newlineresources.online</td>\n",
       "      <td>2000</td>\n",
       "      <td>57</td>\n",
       "      <td>0.81</td>\n",
       "      <td>within hours</td>\n",
       "      <td>1000</td>\n",
       "      <td>360</td>\n",
       "    </tr>\n",
       "    <tr>\n",
       "      <th>3</th>\n",
       "      <td>Preferred+\\nSHIN • KOREA KOREAN RAMEN POT ○ YE...</td>\n",
       "      <td>**Get Korean Spoon &amp; Chopsticks at Only RM10 w...</td>\n",
       "      <td>13.8</td>\n",
       "      <td>4.9</td>\n",
       "      <td>4.9</td>\n",
       "      <td>788</td>\n",
       "      <td>imshin.</td>\n",
       "      <td>25000</td>\n",
       "      <td>421</td>\n",
       "      <td>0.99</td>\n",
       "      <td>within hours</td>\n",
       "      <td>25000</td>\n",
       "      <td>1800</td>\n",
       "    </tr>\n",
       "    <tr>\n",
       "      <th>4</th>\n",
       "      <td>Preferred+\\n【Ready Stock】 (HALAL) Korea Nongsh...</td>\n",
       "      <td>1. Nongshim Shin Ramyun Bowl  (117g)\\n- Octobe...</td>\n",
       "      <td>4.5</td>\n",
       "      <td>5.0</td>\n",
       "      <td>5.0</td>\n",
       "      <td>967</td>\n",
       "      <td>49shopp</td>\n",
       "      <td>23000</td>\n",
       "      <td>411</td>\n",
       "      <td>0.98</td>\n",
       "      <td>within hours</td>\n",
       "      <td>9000</td>\n",
       "      <td>1080</td>\n",
       "    </tr>\n",
       "  </tbody>\n",
       "</table>\n",
       "</div>"
      ],
      "text/plain": [
       "                                           prod_name  \\\n",
       "0  Preferred+\\n【Ready Stock 】 [Halal] NongShim Sh...   \n",
       "1  Halal Nongshim Ramen (Shin Ramyun / Kimchi Ram...   \n",
       "2  Halal Nongshim Shin Ramyun/Kimchi Ramen/ neogu...   \n",
       "3  Preferred+\\nSHIN • KOREA KOREAN RAMEN POT ○ YE...   \n",
       "4  Preferred+\\n【Ready Stock】 (HALAL) Korea Nongsh...   \n",
       "\n",
       "                                           prod_desc  prod_price  prod_rating  \\\n",
       "0                                                NaN        12.5          5.0   \n",
       "1  Expiry date :\\nShin ramyun - December 2021\\nKi...        15.9          4.9   \n",
       "2  As part of the marketing strategies, Nongshim ...        63.5          NaN   \n",
       "3  **Get Korean Spoon & Chopsticks at Only RM10 w...        13.8          4.9   \n",
       "4  1. Nongshim Shin Ramyun Bowl  (117g)\\n- Octobe...         4.5          5.0   \n",
       "\n",
       "   prod_no_rating  prod_no_sold                sell_name  sell_rating  \\\n",
       "0             5.0           421                  49shopp        23000   \n",
       "1             4.9            68  newlineresources.online         2000   \n",
       "2             0.0             0  newlineresources.online         2000   \n",
       "3             4.9           788                  imshin.        25000   \n",
       "4             5.0           967                  49shopp        23000   \n",
       "\n",
       "   sell_no_products  sell_resprate sell_resptime  sell_follower  sell_joined  \n",
       "0               411           0.98  within hours           9000         1080  \n",
       "1                57           0.81  within hours           1000          360  \n",
       "2                57           0.81  within hours           1000          360  \n",
       "3               421           0.99  within hours          25000         1800  \n",
       "4               411           0.98  within hours           9000         1080  "
      ]
     },
     "execution_count": 35,
     "metadata": {},
     "output_type": "execute_result"
    }
   ],
   "source": [
    "df.head()"
   ]
  },
  {
   "cell_type": "code",
   "execution_count": 41,
   "metadata": {},
   "outputs": [
    {
     "data": {
      "image/png": "[encoded data removed]",
      "text/plain": [
       "<Figure size 432x288 with 1 Axes>"
      ]
     },
     "metadata": {
      "needs_background": "light"
     },
     "output_type": "display_data"
    }
   ],
   "source": [
    "# Plotting price vs sales (seller perspective)\n",
    "\n",
    "data = df.copy()\n",
    "\n",
    "data['prod_price']=np.log(data['prod_price'])\n",
    "data['prod_no_sold']=np.log(data['prod_no_sold'])\n",
    "\n",
    "plt.scatter(data['prod_price'],data['prod_no_sold'])\n",
    "plt.xlabel(\"Product Price\")\n",
    "plt.ylabel('Number of Products Sold')\n",
    "plt.title(\"Product Price vs Number of Products Sold\")\n",
    "plt.show()"
   ]
  },
  {
   "cell_type": "code",
   "execution_count": 44,
   "metadata": {},
   "outputs": [
    {
     "data": {
      "image/png": "[encoded data removed]",
      "text/plain": [
       "<Figure size 432x288 with 1 Axes>"
      ]
     },
     "metadata": {
      "needs_background": "light"
     },
     "output_type": "display_data"
    }
   ],
   "source": [
    "# Plotting ratings vs price (buyer perspective)\n",
    "\n",
    "data = df.copy()\n",
    "data['prod_no_sold']=np.log(data['prod_no_sold'])\n",
    "\n",
    "plt.scatter(data['prod_rating'],data['prod_no_sold'])\n",
    "plt.xlabel(\"Product Rating\")\n",
    "plt.ylabel('Number of Products Sold')\n",
    "plt.title(\"Product Price vs Number of Products Sold\")\n",
    "plt.show()"
   ]
  },
  {
   "cell_type": "markdown",
   "metadata": {},
   "source": [
    "## Summarize Insights\n",
    "\n",
    "1. Product price does not affect number of products sold. Hence, making the product cheaper might not necessarily attracts people to buy. However, this does not take into consideration of different promotions set by respective sellers.\n",
    "\n",
    "2. The longer the sellers are in the platform, the more the products are getting sold. Logically speaking, the more the product is showcased on the platform, that allows more exposure which in return people can buy over a longer duration.\n",
    "\n",
    "3. The higher the product ratings, the higher the number of products sold. However, number of ratings should take into consideration as well.\n",
    "\n",
    "4. The faster the seller response to their customers, the more likely the customer will buy the product. "
   ]
  },
  {
   "cell_type": "markdown",
   "metadata": {},
   "source": [
    "## Project Learnings\n",
    "\n",
    "1. Quality of data collected is essential. In the future, number of ratings given to a product should be scraped properly because intuitively it is an important variable. \n",
    "\n",
    "1. If there is a certain variable(s) that enable a product to stand out, machine learning models can be applied to identify how well this product can do before launching into the market or to do sales prediction.\n",
    "\n",
    "1. NLP can be applied to identify how the namings and description affect the number of products sold.\n",
    "\n",
    "1. Now I know I should buy Shin Ramen from vkmarket :)"
   ]
  }
 ],
 "metadata": {
  "gist": {
   "data": {
    "description": "4. Programming/Projects/Ecommerce Product Web Scrapping & Analysis/Untitled.ipynb",
    "public": false
   },
   "id": ""
  },
  "kernelspec": {
   "display_name": "Python 3",
   "language": "python",
   "name": "python3"
  },
  "language_info": {
   "codemirror_mode": {
    "name": "ipython",
    "version": 3
   },
   "file_extension": ".py",
   "mimetype": "text/x-python",
   "name": "python",
   "nbconvert_exporter": "python",
   "pygments_lexer": "ipython3",
   "version": "3.7.7"
  },
  "toc": {
   "base_numbering": 1,
   "nav_menu": {},
   "number_sections": true,
   "sideBar": true,
   "skip_h1_title": false,
   "title_cell": "Table of Contents",
   "title_sidebar": "Contents",
   "toc_cell": false,
   "toc_position": {},
   "toc_section_display": true,
   "toc_window_display": false
  },
  "varInspector": {
   "cols": {
    "lenName": 16,
    "lenType": 16,
    "lenVar": 40
   },
   "kernels_config": {
    "python": {
     "delete_cmd_postfix": "",
     "delete_cmd_prefix": "del ",
     "library": "var_list.py",
     "varRefreshCmd": "print(var_dic_list())"
    },
    "r": {
     "delete_cmd_postfix": ") ",
     "delete_cmd_prefix": "rm(",
     "library": "var_list.r",
     "varRefreshCmd": "cat(var_dic_list()) "
    }
   },
   "types_to_exclude": [
    "module",
    "function",
    "builtin_function_or_method",
    "instance",
    "_Feature"
   ],
   "window_display": false
  }
 },
 "nbformat": 4,
 "nbformat_minor": 4
}
